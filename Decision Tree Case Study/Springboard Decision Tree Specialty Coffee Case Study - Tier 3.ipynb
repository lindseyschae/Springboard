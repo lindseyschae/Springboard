{
 "cells": [
  {
   "cell_type": "markdown",
   "metadata": {
    "colab_type": "text",
    "id": "Jm0w3zN4DuVK"
   },
   "source": [
    "# **Springboard Decision Tree Specialty Coffee Case Study - Tier 3**\n",
    "\n",
    "\n"
   ]
  },
  {
   "cell_type": "markdown",
   "metadata": {
    "colab_type": "text",
    "id": "BhqpAY7GDuVN"
   },
   "source": [
    "# The Scenario\n",
    "\n",
    "Imagine you've just finished the Springboard Data Science Career Track course, and have been hired by a rising popular specialty coffee company - RR Diner Coffee - as a data scientist. Congratulations!\n",
    "\n",
    "RR Diner Coffee sells two types of thing:\n",
    "- specialty coffee beans, in bulk (by the kilogram only) \n",
    "- coffee equipment and merchandise (grinders, brewing equipment, mugs, books, t-shirts).\n",
    "\n",
    "RR Diner Coffee has three stores, two in Europe and one in the USA. The flagshap store is in the USA, and everything is quality assessed there, before being shipped out. Customers further away from the USA flagship store have higher shipping charges. \n",
    "\n",
    "You've been taken on at RR Diner Coffee because the company are turning towards using data science and machine learning to systematically make decisions about which coffee farmers they should strike deals with. \n",
    "\n",
    "RR Diner Coffee typically buys coffee from farmers, processes it on site, brings it back to the USA, roasts it, packages it, markets it, and ships it (only in bulk, and after quality assurance) to customers internationally. These customers all own coffee shops in major cities like New York, Paris, London, Hong Kong, Tokyo, and Berlin. \n",
    "\n",
    "Now, RR Diner Coffee has a decision about whether to strike a deal with a legendary coffee farm (known as the **Hidden Farm**) in rural China: there are rumours their coffee tastes of lychee and dark chocolate, while also being as sweet as apple juice. \n",
    "\n",
    "It's a risky decision, as the deal will be expensive, and the coffee might not be bought by customers. The stakes are high: times are tough, stocks are low, farmers are reverting to old deals with the larger enterprises and the publicity of selling *Hidden Farm* coffee could save the RR Diner Coffee business. \n",
    "\n",
    "Your first job, then, is ***to build a decision tree to predict how many units of the Hidden Farm Chinese coffee will be purchased by RR Diner Coffee's most loyal customers.*** \n",
    "\n",
    "To this end, you and your team have conducted a survey of 710 of the most loyal RR Diner Coffee customers, collecting data on the customers':\n",
    "- age\n",
    "- gender \n",
    "- salary \n",
    "- whether they have bought at least one RR Diner Coffee product online\n",
    "- their distance from the flagship store in the USA (standardized to a number between 0 and 11) \n",
    "- how much they spent on RR Diner Coffee products on the week of the survey \n",
    "- how much they spent on RR Diner Coffee products in the month preeding the survey\n",
    "- the number of RR Diner coffee bean shipments each customer has ordered over the preceding year. \n",
    "\n",
    "You also asked each customer participating in the survey whether they would buy the Hidden Farm coffee, and some (but not all) of the customers gave responses to that question. \n",
    "\n",
    "You sit back and think: if more than 70% of the interviewed customers are likely to buy the Hidden Farm coffee, you will strike the deal with the local Hidden Farm farmers and sell the coffee. Otherwise, you won't strike the deal and the Hidden Farm coffee will remain in legends only. There's some doubt in your mind about whether 70% is a reasonable threshold, but it'll do for the moment. \n",
    "\n",
    "To solve the problem, then, you will build a decision tree to implement a classification solution. \n",
    "\n",
    "\n",
    "-------------------------------\n",
    "As ever, this notebook is **tiered**, meaning you can elect that tier that is right for your confidence and skill level. There are 3 tiers, with tier 1 being the easiest and tier 3 being the hardest. This is ***tier 3***, so it will be challenging. \n",
    "\n",
    "**1. Sourcing and loading** \n",
    "- Import packages\n",
    "- Load data\n",
    "- Explore the data\n",
    "\n",
    " \n",
    "**2. Cleaning, transforming and visualizing**\n",
    "- Cleaning the data\n",
    "- Train/test split\n",
    "  \n",
    "  \n",
    "**3. Modelling** \n",
    "- Model 1: Entropy model - no max_depth\n",
    "- Model 2: Gini impurity model - no max_depth\n",
    "- Model 3: Entropy model - max depth 3\n",
    "- Model 4: Gini impurity model - max depth 3\n",
    "\n",
    "\n",
    "**4. Evaluating and concluding** \n",
    "- How many customers will buy Hidden Farm coffee?\n",
    "- Decision\n",
    "\n",
    "**5. Random Forest** \n",
    "- Import necessary modules\n",
    "- Model\n",
    "- Revise conclusion\n",
    "    "
   ]
  },
  {
   "cell_type": "markdown",
   "metadata": {
    "colab_type": "text",
    "id": "nciXGXtCDuVO"
   },
   "source": [
    "# 0. Overview\n",
    "\n",
    "This notebook uses decision trees to determine whether the factors of salary, gender, age, how much money the customer spent last week and during the preceding month on RR Diner Coffee products, how many kilogram coffee bags the customer bought over the last year, whether they have bought at least one RR Diner Coffee product online, and their distance from the flagship store in the USA, could predict whether customers would purchase the Hidden Farm coffee if a deal with its farmers were struck. "
   ]
  },
  {
   "cell_type": "markdown",
   "metadata": {
    "colab_type": "text",
    "id": "5fSgD2h9DuVP"
   },
   "source": [
    "# 1. Sourcing and loading\n",
    "## 1a. Import Packages"
   ]
  },
  {
   "cell_type": "code",
   "execution_count": 2,
   "metadata": {
    "colab": {},
    "colab_type": "code",
    "id": "CfGkTcLvDuVQ"
   },
   "outputs": [
    {
     "ename": "ModuleNotFoundError",
     "evalue": "No module named 'pydotplus'",
     "output_type": "error",
     "traceback": [
      "\u001b[1;31m---------------------------------------------------------------------------\u001b[0m",
      "\u001b[1;31mModuleNotFoundError\u001b[0m                       Traceback (most recent call last)",
      "Cell \u001b[1;32mIn[2], line 9\u001b[0m\n\u001b[0;32m      7\u001b[0m \u001b[38;5;28;01mfrom\u001b[39;00m \u001b[38;5;21;01mio\u001b[39;00m \u001b[38;5;28;01mimport\u001b[39;00m StringIO  \n\u001b[0;32m      8\u001b[0m \u001b[38;5;28;01mfrom\u001b[39;00m \u001b[38;5;21;01mIPython\u001b[39;00m\u001b[38;5;21;01m.\u001b[39;00m\u001b[38;5;21;01mdisplay\u001b[39;00m \u001b[38;5;28;01mimport\u001b[39;00m Image  \n\u001b[1;32m----> 9\u001b[0m \u001b[38;5;28;01mimport\u001b[39;00m \u001b[38;5;21;01mpydotplus\u001b[39;00m\n",
      "\u001b[1;31mModuleNotFoundError\u001b[0m: No module named 'pydotplus'"
     ]
    }
   ],
   "source": [
    "import pandas as pd\n",
    "import numpy as np\n",
    "from sklearn import tree, metrics\n",
    "from sklearn.model_selection import train_test_split\n",
    "import seaborn as sns\n",
    "import matplotlib.pyplot as plt\n",
    "from io import StringIO  \n",
    "from IPython.display import Image  \n",
    "import pydotplus"
   ]
  },
  {
   "cell_type": "markdown",
   "metadata": {
    "colab_type": "text",
    "id": "ZLgxyhNrDuVT"
   },
   "source": [
    "## 1b. Load data "
   ]
  },
  {
   "cell_type": "code",
   "execution_count": 9,
   "metadata": {
    "colab": {},
    "colab_type": "code",
    "id": "chW2ozlnDuVU"
   },
   "outputs": [
    {
     "ename": "ValueError",
     "evalue": "Protocol not known: data",
     "output_type": "error",
     "traceback": [
      "\u001b[1;31m---------------------------------------------------------------------------\u001b[0m",
      "\u001b[1;31mValueError\u001b[0m                                Traceback (most recent call last)",
      "Cell \u001b[1;32mIn[9], line 2\u001b[0m\n\u001b[0;32m      1\u001b[0m \u001b[38;5;66;03m# Read in the data to a variable called coffeeData\u001b[39;00m\n\u001b[1;32m----> 2\u001b[0m coffeeData \u001b[38;5;241m=\u001b[39m pd\u001b[38;5;241m.\u001b[39mread_csv(\u001b[38;5;124m'\u001b[39m\u001b[38;5;124mdata://RRDinerCoffeeData.csv\u001b[39m\u001b[38;5;124m'\u001b[39m)\n",
      "File \u001b[1;32m~\\anaconda3\\Lib\\site-packages\\pandas\\util\\_decorators.py:211\u001b[0m, in \u001b[0;36mdeprecate_kwarg.<locals>._deprecate_kwarg.<locals>.wrapper\u001b[1;34m(*args, **kwargs)\u001b[0m\n\u001b[0;32m    209\u001b[0m     \u001b[38;5;28;01melse\u001b[39;00m:\n\u001b[0;32m    210\u001b[0m         kwargs[new_arg_name] \u001b[38;5;241m=\u001b[39m new_arg_value\n\u001b[1;32m--> 211\u001b[0m \u001b[38;5;28;01mreturn\u001b[39;00m func(\u001b[38;5;241m*\u001b[39margs, \u001b[38;5;241m*\u001b[39m\u001b[38;5;241m*\u001b[39mkwargs)\n",
      "File \u001b[1;32m~\\anaconda3\\Lib\\site-packages\\pandas\\util\\_decorators.py:331\u001b[0m, in \u001b[0;36mdeprecate_nonkeyword_arguments.<locals>.decorate.<locals>.wrapper\u001b[1;34m(*args, **kwargs)\u001b[0m\n\u001b[0;32m    325\u001b[0m \u001b[38;5;28;01mif\u001b[39;00m \u001b[38;5;28mlen\u001b[39m(args) \u001b[38;5;241m>\u001b[39m num_allow_args:\n\u001b[0;32m    326\u001b[0m     warnings\u001b[38;5;241m.\u001b[39mwarn(\n\u001b[0;32m    327\u001b[0m         msg\u001b[38;5;241m.\u001b[39mformat(arguments\u001b[38;5;241m=\u001b[39m_format_argument_list(allow_args)),\n\u001b[0;32m    328\u001b[0m         \u001b[38;5;167;01mFutureWarning\u001b[39;00m,\n\u001b[0;32m    329\u001b[0m         stacklevel\u001b[38;5;241m=\u001b[39mfind_stack_level(),\n\u001b[0;32m    330\u001b[0m     )\n\u001b[1;32m--> 331\u001b[0m \u001b[38;5;28;01mreturn\u001b[39;00m func(\u001b[38;5;241m*\u001b[39margs, \u001b[38;5;241m*\u001b[39m\u001b[38;5;241m*\u001b[39mkwargs)\n",
      "File \u001b[1;32m~\\anaconda3\\Lib\\site-packages\\pandas\\io\\parsers\\readers.py:950\u001b[0m, in \u001b[0;36mread_csv\u001b[1;34m(filepath_or_buffer, sep, delimiter, header, names, index_col, usecols, squeeze, prefix, mangle_dupe_cols, dtype, engine, converters, true_values, false_values, skipinitialspace, skiprows, skipfooter, nrows, na_values, keep_default_na, na_filter, verbose, skip_blank_lines, parse_dates, infer_datetime_format, keep_date_col, date_parser, dayfirst, cache_dates, iterator, chunksize, compression, thousands, decimal, lineterminator, quotechar, quoting, doublequote, escapechar, comment, encoding, encoding_errors, dialect, error_bad_lines, warn_bad_lines, on_bad_lines, delim_whitespace, low_memory, memory_map, float_precision, storage_options)\u001b[0m\n\u001b[0;32m    935\u001b[0m kwds_defaults \u001b[38;5;241m=\u001b[39m _refine_defaults_read(\n\u001b[0;32m    936\u001b[0m     dialect,\n\u001b[0;32m    937\u001b[0m     delimiter,\n\u001b[1;32m   (...)\u001b[0m\n\u001b[0;32m    946\u001b[0m     defaults\u001b[38;5;241m=\u001b[39m{\u001b[38;5;124m\"\u001b[39m\u001b[38;5;124mdelimiter\u001b[39m\u001b[38;5;124m\"\u001b[39m: \u001b[38;5;124m\"\u001b[39m\u001b[38;5;124m,\u001b[39m\u001b[38;5;124m\"\u001b[39m},\n\u001b[0;32m    947\u001b[0m )\n\u001b[0;32m    948\u001b[0m kwds\u001b[38;5;241m.\u001b[39mupdate(kwds_defaults)\n\u001b[1;32m--> 950\u001b[0m \u001b[38;5;28;01mreturn\u001b[39;00m _read(filepath_or_buffer, kwds)\n",
      "File \u001b[1;32m~\\anaconda3\\Lib\\site-packages\\pandas\\io\\parsers\\readers.py:605\u001b[0m, in \u001b[0;36m_read\u001b[1;34m(filepath_or_buffer, kwds)\u001b[0m\n\u001b[0;32m    602\u001b[0m _validate_names(kwds\u001b[38;5;241m.\u001b[39mget(\u001b[38;5;124m\"\u001b[39m\u001b[38;5;124mnames\u001b[39m\u001b[38;5;124m\"\u001b[39m, \u001b[38;5;28;01mNone\u001b[39;00m))\n\u001b[0;32m    604\u001b[0m \u001b[38;5;66;03m# Create the parser.\u001b[39;00m\n\u001b[1;32m--> 605\u001b[0m parser \u001b[38;5;241m=\u001b[39m TextFileReader(filepath_or_buffer, \u001b[38;5;241m*\u001b[39m\u001b[38;5;241m*\u001b[39mkwds)\n\u001b[0;32m    607\u001b[0m \u001b[38;5;28;01mif\u001b[39;00m chunksize \u001b[38;5;129;01mor\u001b[39;00m iterator:\n\u001b[0;32m    608\u001b[0m     \u001b[38;5;28;01mreturn\u001b[39;00m parser\n",
      "File \u001b[1;32m~\\anaconda3\\Lib\\site-packages\\pandas\\io\\parsers\\readers.py:1442\u001b[0m, in \u001b[0;36mTextFileReader.__init__\u001b[1;34m(self, f, engine, **kwds)\u001b[0m\n\u001b[0;32m   1439\u001b[0m     \u001b[38;5;28mself\u001b[39m\u001b[38;5;241m.\u001b[39moptions[\u001b[38;5;124m\"\u001b[39m\u001b[38;5;124mhas_index_names\u001b[39m\u001b[38;5;124m\"\u001b[39m] \u001b[38;5;241m=\u001b[39m kwds[\u001b[38;5;124m\"\u001b[39m\u001b[38;5;124mhas_index_names\u001b[39m\u001b[38;5;124m\"\u001b[39m]\n\u001b[0;32m   1441\u001b[0m \u001b[38;5;28mself\u001b[39m\u001b[38;5;241m.\u001b[39mhandles: IOHandles \u001b[38;5;241m|\u001b[39m \u001b[38;5;28;01mNone\u001b[39;00m \u001b[38;5;241m=\u001b[39m \u001b[38;5;28;01mNone\u001b[39;00m\n\u001b[1;32m-> 1442\u001b[0m \u001b[38;5;28mself\u001b[39m\u001b[38;5;241m.\u001b[39m_engine \u001b[38;5;241m=\u001b[39m \u001b[38;5;28mself\u001b[39m\u001b[38;5;241m.\u001b[39m_make_engine(f, \u001b[38;5;28mself\u001b[39m\u001b[38;5;241m.\u001b[39mengine)\n",
      "File \u001b[1;32m~\\anaconda3\\Lib\\site-packages\\pandas\\io\\parsers\\readers.py:1735\u001b[0m, in \u001b[0;36mTextFileReader._make_engine\u001b[1;34m(self, f, engine)\u001b[0m\n\u001b[0;32m   1733\u001b[0m     \u001b[38;5;28;01mif\u001b[39;00m \u001b[38;5;124m\"\u001b[39m\u001b[38;5;124mb\u001b[39m\u001b[38;5;124m\"\u001b[39m \u001b[38;5;129;01mnot\u001b[39;00m \u001b[38;5;129;01min\u001b[39;00m mode:\n\u001b[0;32m   1734\u001b[0m         mode \u001b[38;5;241m+\u001b[39m\u001b[38;5;241m=\u001b[39m \u001b[38;5;124m\"\u001b[39m\u001b[38;5;124mb\u001b[39m\u001b[38;5;124m\"\u001b[39m\n\u001b[1;32m-> 1735\u001b[0m \u001b[38;5;28mself\u001b[39m\u001b[38;5;241m.\u001b[39mhandles \u001b[38;5;241m=\u001b[39m get_handle(\n\u001b[0;32m   1736\u001b[0m     f,\n\u001b[0;32m   1737\u001b[0m     mode,\n\u001b[0;32m   1738\u001b[0m     encoding\u001b[38;5;241m=\u001b[39m\u001b[38;5;28mself\u001b[39m\u001b[38;5;241m.\u001b[39moptions\u001b[38;5;241m.\u001b[39mget(\u001b[38;5;124m\"\u001b[39m\u001b[38;5;124mencoding\u001b[39m\u001b[38;5;124m\"\u001b[39m, \u001b[38;5;28;01mNone\u001b[39;00m),\n\u001b[0;32m   1739\u001b[0m     compression\u001b[38;5;241m=\u001b[39m\u001b[38;5;28mself\u001b[39m\u001b[38;5;241m.\u001b[39moptions\u001b[38;5;241m.\u001b[39mget(\u001b[38;5;124m\"\u001b[39m\u001b[38;5;124mcompression\u001b[39m\u001b[38;5;124m\"\u001b[39m, \u001b[38;5;28;01mNone\u001b[39;00m),\n\u001b[0;32m   1740\u001b[0m     memory_map\u001b[38;5;241m=\u001b[39m\u001b[38;5;28mself\u001b[39m\u001b[38;5;241m.\u001b[39moptions\u001b[38;5;241m.\u001b[39mget(\u001b[38;5;124m\"\u001b[39m\u001b[38;5;124mmemory_map\u001b[39m\u001b[38;5;124m\"\u001b[39m, \u001b[38;5;28;01mFalse\u001b[39;00m),\n\u001b[0;32m   1741\u001b[0m     is_text\u001b[38;5;241m=\u001b[39mis_text,\n\u001b[0;32m   1742\u001b[0m     errors\u001b[38;5;241m=\u001b[39m\u001b[38;5;28mself\u001b[39m\u001b[38;5;241m.\u001b[39moptions\u001b[38;5;241m.\u001b[39mget(\u001b[38;5;124m\"\u001b[39m\u001b[38;5;124mencoding_errors\u001b[39m\u001b[38;5;124m\"\u001b[39m, \u001b[38;5;124m\"\u001b[39m\u001b[38;5;124mstrict\u001b[39m\u001b[38;5;124m\"\u001b[39m),\n\u001b[0;32m   1743\u001b[0m     storage_options\u001b[38;5;241m=\u001b[39m\u001b[38;5;28mself\u001b[39m\u001b[38;5;241m.\u001b[39moptions\u001b[38;5;241m.\u001b[39mget(\u001b[38;5;124m\"\u001b[39m\u001b[38;5;124mstorage_options\u001b[39m\u001b[38;5;124m\"\u001b[39m, \u001b[38;5;28;01mNone\u001b[39;00m),\n\u001b[0;32m   1744\u001b[0m )\n\u001b[0;32m   1745\u001b[0m \u001b[38;5;28;01massert\u001b[39;00m \u001b[38;5;28mself\u001b[39m\u001b[38;5;241m.\u001b[39mhandles \u001b[38;5;129;01mis\u001b[39;00m \u001b[38;5;129;01mnot\u001b[39;00m \u001b[38;5;28;01mNone\u001b[39;00m\n\u001b[0;32m   1746\u001b[0m f \u001b[38;5;241m=\u001b[39m \u001b[38;5;28mself\u001b[39m\u001b[38;5;241m.\u001b[39mhandles\u001b[38;5;241m.\u001b[39mhandle\n",
      "File \u001b[1;32m~\\anaconda3\\Lib\\site-packages\\pandas\\io\\common.py:713\u001b[0m, in \u001b[0;36mget_handle\u001b[1;34m(path_or_buf, mode, encoding, compression, memory_map, is_text, errors, storage_options)\u001b[0m\n\u001b[0;32m    710\u001b[0m     codecs\u001b[38;5;241m.\u001b[39mlookup_error(errors)\n\u001b[0;32m    712\u001b[0m \u001b[38;5;66;03m# open URLs\u001b[39;00m\n\u001b[1;32m--> 713\u001b[0m ioargs \u001b[38;5;241m=\u001b[39m _get_filepath_or_buffer(\n\u001b[0;32m    714\u001b[0m     path_or_buf,\n\u001b[0;32m    715\u001b[0m     encoding\u001b[38;5;241m=\u001b[39mencoding,\n\u001b[0;32m    716\u001b[0m     compression\u001b[38;5;241m=\u001b[39mcompression,\n\u001b[0;32m    717\u001b[0m     mode\u001b[38;5;241m=\u001b[39mmode,\n\u001b[0;32m    718\u001b[0m     storage_options\u001b[38;5;241m=\u001b[39mstorage_options,\n\u001b[0;32m    719\u001b[0m )\n\u001b[0;32m    721\u001b[0m handle \u001b[38;5;241m=\u001b[39m ioargs\u001b[38;5;241m.\u001b[39mfilepath_or_buffer\n\u001b[0;32m    722\u001b[0m handles: \u001b[38;5;28mlist\u001b[39m[BaseBuffer]\n",
      "File \u001b[1;32m~\\anaconda3\\Lib\\site-packages\\pandas\\io\\common.py:409\u001b[0m, in \u001b[0;36m_get_filepath_or_buffer\u001b[1;34m(filepath_or_buffer, encoding, compression, mode, storage_options)\u001b[0m\n\u001b[0;32m    406\u001b[0m     \u001b[38;5;28;01mpass\u001b[39;00m\n\u001b[0;32m    408\u001b[0m \u001b[38;5;28;01mtry\u001b[39;00m:\n\u001b[1;32m--> 409\u001b[0m     file_obj \u001b[38;5;241m=\u001b[39m fsspec\u001b[38;5;241m.\u001b[39mopen(\n\u001b[0;32m    410\u001b[0m         filepath_or_buffer, mode\u001b[38;5;241m=\u001b[39mfsspec_mode, \u001b[38;5;241m*\u001b[39m\u001b[38;5;241m*\u001b[39m(storage_options \u001b[38;5;129;01mor\u001b[39;00m {})\n\u001b[0;32m    411\u001b[0m     )\u001b[38;5;241m.\u001b[39mopen()\n\u001b[0;32m    412\u001b[0m \u001b[38;5;66;03m# GH 34626 Reads from Public Buckets without Credentials needs anon=True\u001b[39;00m\n\u001b[0;32m    413\u001b[0m \u001b[38;5;28;01mexcept\u001b[39;00m \u001b[38;5;28mtuple\u001b[39m(err_types_to_retry_with_anon):\n",
      "File \u001b[1;32m~\\anaconda3\\Lib\\site-packages\\fsspec\\core.py:419\u001b[0m, in \u001b[0;36mopen\u001b[1;34m(urlpath, mode, compression, encoding, errors, protocol, newline, **kwargs)\u001b[0m\n\u001b[0;32m    369\u001b[0m \u001b[38;5;28;01mdef\u001b[39;00m \u001b[38;5;21mopen\u001b[39m(\n\u001b[0;32m    370\u001b[0m     urlpath,\n\u001b[0;32m    371\u001b[0m     mode\u001b[38;5;241m=\u001b[39m\u001b[38;5;124m\"\u001b[39m\u001b[38;5;124mrb\u001b[39m\u001b[38;5;124m\"\u001b[39m,\n\u001b[1;32m   (...)\u001b[0m\n\u001b[0;32m    377\u001b[0m     \u001b[38;5;241m*\u001b[39m\u001b[38;5;241m*\u001b[39mkwargs,\n\u001b[0;32m    378\u001b[0m ):\n\u001b[0;32m    379\u001b[0m \u001b[38;5;250m    \u001b[39m\u001b[38;5;124;03m\"\"\"Given a path or paths, return one ``OpenFile`` object.\u001b[39;00m\n\u001b[0;32m    380\u001b[0m \n\u001b[0;32m    381\u001b[0m \u001b[38;5;124;03m    Parameters\u001b[39;00m\n\u001b[1;32m   (...)\u001b[0m\n\u001b[0;32m    417\u001b[0m \u001b[38;5;124;03m    ``OpenFile`` object.\u001b[39;00m\n\u001b[0;32m    418\u001b[0m \u001b[38;5;124;03m    \"\"\"\u001b[39;00m\n\u001b[1;32m--> 419\u001b[0m     \u001b[38;5;28;01mreturn\u001b[39;00m open_files(\n\u001b[0;32m    420\u001b[0m         urlpath\u001b[38;5;241m=\u001b[39m[urlpath],\n\u001b[0;32m    421\u001b[0m         mode\u001b[38;5;241m=\u001b[39mmode,\n\u001b[0;32m    422\u001b[0m         compression\u001b[38;5;241m=\u001b[39mcompression,\n\u001b[0;32m    423\u001b[0m         encoding\u001b[38;5;241m=\u001b[39mencoding,\n\u001b[0;32m    424\u001b[0m         errors\u001b[38;5;241m=\u001b[39merrors,\n\u001b[0;32m    425\u001b[0m         protocol\u001b[38;5;241m=\u001b[39mprotocol,\n\u001b[0;32m    426\u001b[0m         newline\u001b[38;5;241m=\u001b[39mnewline,\n\u001b[0;32m    427\u001b[0m         expand\u001b[38;5;241m=\u001b[39m\u001b[38;5;28;01mFalse\u001b[39;00m,\n\u001b[0;32m    428\u001b[0m         \u001b[38;5;241m*\u001b[39m\u001b[38;5;241m*\u001b[39mkwargs,\n\u001b[0;32m    429\u001b[0m     )[\u001b[38;5;241m0\u001b[39m]\n",
      "File \u001b[1;32m~\\anaconda3\\Lib\\site-packages\\fsspec\\core.py:272\u001b[0m, in \u001b[0;36mopen_files\u001b[1;34m(urlpath, mode, compression, encoding, errors, name_function, num, protocol, newline, auto_mkdir, expand, **kwargs)\u001b[0m\n\u001b[0;32m    203\u001b[0m \u001b[38;5;28;01mdef\u001b[39;00m \u001b[38;5;21mopen_files\u001b[39m(\n\u001b[0;32m    204\u001b[0m     urlpath,\n\u001b[0;32m    205\u001b[0m     mode\u001b[38;5;241m=\u001b[39m\u001b[38;5;124m\"\u001b[39m\u001b[38;5;124mrb\u001b[39m\u001b[38;5;124m\"\u001b[39m,\n\u001b[1;32m   (...)\u001b[0m\n\u001b[0;32m    215\u001b[0m     \u001b[38;5;241m*\u001b[39m\u001b[38;5;241m*\u001b[39mkwargs,\n\u001b[0;32m    216\u001b[0m ):\n\u001b[0;32m    217\u001b[0m \u001b[38;5;250m    \u001b[39m\u001b[38;5;124;03m\"\"\"Given a path or paths, return a list of ``OpenFile`` objects.\u001b[39;00m\n\u001b[0;32m    218\u001b[0m \n\u001b[0;32m    219\u001b[0m \u001b[38;5;124;03m    For writing, a str path must contain the \"*\" character, which will be filled\u001b[39;00m\n\u001b[1;32m   (...)\u001b[0m\n\u001b[0;32m    270\u001b[0m \u001b[38;5;124;03m    be used as a single context\u001b[39;00m\n\u001b[0;32m    271\u001b[0m \u001b[38;5;124;03m    \"\"\"\u001b[39;00m\n\u001b[1;32m--> 272\u001b[0m     fs, fs_token, paths \u001b[38;5;241m=\u001b[39m get_fs_token_paths(\n\u001b[0;32m    273\u001b[0m         urlpath,\n\u001b[0;32m    274\u001b[0m         mode,\n\u001b[0;32m    275\u001b[0m         num\u001b[38;5;241m=\u001b[39mnum,\n\u001b[0;32m    276\u001b[0m         name_function\u001b[38;5;241m=\u001b[39mname_function,\n\u001b[0;32m    277\u001b[0m         storage_options\u001b[38;5;241m=\u001b[39mkwargs,\n\u001b[0;32m    278\u001b[0m         protocol\u001b[38;5;241m=\u001b[39mprotocol,\n\u001b[0;32m    279\u001b[0m         expand\u001b[38;5;241m=\u001b[39mexpand,\n\u001b[0;32m    280\u001b[0m     )\n\u001b[0;32m    281\u001b[0m     \u001b[38;5;28;01mif\u001b[39;00m \u001b[38;5;124m\"\u001b[39m\u001b[38;5;124mr\u001b[39m\u001b[38;5;124m\"\u001b[39m \u001b[38;5;129;01mnot\u001b[39;00m \u001b[38;5;129;01min\u001b[39;00m mode \u001b[38;5;129;01mand\u001b[39;00m auto_mkdir:\n\u001b[0;32m    282\u001b[0m         parents \u001b[38;5;241m=\u001b[39m {fs\u001b[38;5;241m.\u001b[39m_parent(path) \u001b[38;5;28;01mfor\u001b[39;00m path \u001b[38;5;129;01min\u001b[39;00m paths}\n",
      "File \u001b[1;32m~\\anaconda3\\Lib\\site-packages\\fsspec\\core.py:574\u001b[0m, in \u001b[0;36mget_fs_token_paths\u001b[1;34m(urlpath, mode, num, name_function, storage_options, protocol, expand)\u001b[0m\n\u001b[0;32m    572\u001b[0m \u001b[38;5;28;01mif\u001b[39;00m protocol:\n\u001b[0;32m    573\u001b[0m     storage_options[\u001b[38;5;124m\"\u001b[39m\u001b[38;5;124mprotocol\u001b[39m\u001b[38;5;124m\"\u001b[39m] \u001b[38;5;241m=\u001b[39m protocol\n\u001b[1;32m--> 574\u001b[0m chain \u001b[38;5;241m=\u001b[39m _un_chain(urlpath0, storage_options \u001b[38;5;129;01mor\u001b[39;00m {})\n\u001b[0;32m    575\u001b[0m inkwargs \u001b[38;5;241m=\u001b[39m {}\n\u001b[0;32m    576\u001b[0m \u001b[38;5;66;03m# Reverse iterate the chain, creating a nested target_* structure\u001b[39;00m\n",
      "File \u001b[1;32m~\\anaconda3\\Lib\\site-packages\\fsspec\\core.py:315\u001b[0m, in \u001b[0;36m_un_chain\u001b[1;34m(path, kwargs)\u001b[0m\n\u001b[0;32m    313\u001b[0m \u001b[38;5;28;01mfor\u001b[39;00m bit \u001b[38;5;129;01min\u001b[39;00m \u001b[38;5;28mreversed\u001b[39m(bits):\n\u001b[0;32m    314\u001b[0m     protocol \u001b[38;5;241m=\u001b[39m kwargs\u001b[38;5;241m.\u001b[39mpop(\u001b[38;5;124m\"\u001b[39m\u001b[38;5;124mprotocol\u001b[39m\u001b[38;5;124m\"\u001b[39m, \u001b[38;5;28;01mNone\u001b[39;00m) \u001b[38;5;129;01mor\u001b[39;00m split_protocol(bit)[\u001b[38;5;241m0\u001b[39m] \u001b[38;5;129;01mor\u001b[39;00m \u001b[38;5;124m\"\u001b[39m\u001b[38;5;124mfile\u001b[39m\u001b[38;5;124m\"\u001b[39m\n\u001b[1;32m--> 315\u001b[0m     \u001b[38;5;28mcls\u001b[39m \u001b[38;5;241m=\u001b[39m get_filesystem_class(protocol)\n\u001b[0;32m    316\u001b[0m     extra_kwargs \u001b[38;5;241m=\u001b[39m \u001b[38;5;28mcls\u001b[39m\u001b[38;5;241m.\u001b[39m_get_kwargs_from_urls(bit)\n\u001b[0;32m    317\u001b[0m     kws \u001b[38;5;241m=\u001b[39m kwargs\u001b[38;5;241m.\u001b[39mpop(protocol, {})\n",
      "File \u001b[1;32m~\\anaconda3\\Lib\\site-packages\\fsspec\\registry.py:209\u001b[0m, in \u001b[0;36mget_filesystem_class\u001b[1;34m(protocol)\u001b[0m\n\u001b[0;32m    207\u001b[0m \u001b[38;5;28;01mif\u001b[39;00m protocol \u001b[38;5;129;01mnot\u001b[39;00m \u001b[38;5;129;01min\u001b[39;00m registry:\n\u001b[0;32m    208\u001b[0m     \u001b[38;5;28;01mif\u001b[39;00m protocol \u001b[38;5;129;01mnot\u001b[39;00m \u001b[38;5;129;01min\u001b[39;00m known_implementations:\n\u001b[1;32m--> 209\u001b[0m         \u001b[38;5;28;01mraise\u001b[39;00m \u001b[38;5;167;01mValueError\u001b[39;00m(\u001b[38;5;124m\"\u001b[39m\u001b[38;5;124mProtocol not known: \u001b[39m\u001b[38;5;132;01m%s\u001b[39;00m\u001b[38;5;124m\"\u001b[39m \u001b[38;5;241m%\u001b[39m protocol)\n\u001b[0;32m    210\u001b[0m     bit \u001b[38;5;241m=\u001b[39m known_implementations[protocol]\n\u001b[0;32m    211\u001b[0m     \u001b[38;5;28;01mtry\u001b[39;00m:\n",
      "\u001b[1;31mValueError\u001b[0m: Protocol not known: data"
     ]
    }
   ],
   "source": [
    "# Read in the data to a variable called coffeeData\n",
    "coffeeData = pd.read_csv('data://RRDinerCoffeeData.csv')"
   ]
  },
  {
   "cell_type": "markdown",
   "metadata": {
    "colab_type": "text",
    "id": "qnMVYf2NDuVW"
   },
   "source": [
    "## 1c. Explore the data"
   ]
  },
  {
   "cell_type": "markdown",
   "metadata": {
    "colab_type": "text",
    "id": "U5Qm4obyDuVX"
   },
   "source": [
    "As we've seen, exploration entails doing things like checking out the **initial appearance** of the data with head(), the **dimensions** of our data with .shape, the **data types** of the variables with .info(), the **number of non-null values**, how much **memory** is being used to store the data, and finally the major summary statistcs capturing **central tendancy, dispersion and the null-excluding shape of the dataset's distribution**. \n",
    "\n",
    "How much of this can you do yourself by this point in the course? Have a real go. "
   ]
  },
  {
   "cell_type": "code",
   "execution_count": null,
   "metadata": {
    "colab": {},
    "colab_type": "code",
    "id": "cHEKFT4SDuVY"
   },
   "outputs": [],
   "source": [
    "# Call head() on your data \n",
    "_ _ _"
   ]
  },
  {
   "cell_type": "code",
   "execution_count": null,
   "metadata": {
    "colab": {},
    "colab_type": "code",
    "id": "rDshwA7tDuVa"
   },
   "outputs": [],
   "source": [
    "# Call .shape on your data\n",
    "_ _ _"
   ]
  },
  {
   "cell_type": "code",
   "execution_count": null,
   "metadata": {
    "colab": {},
    "colab_type": "code",
    "id": "iCxo0tomDuVc"
   },
   "outputs": [],
   "source": [
    "# Call info() on your data\n",
    "_ _ _ "
   ]
  },
  {
   "cell_type": "code",
   "execution_count": null,
   "metadata": {
    "colab": {},
    "colab_type": "code",
    "id": "t0ZdmaUeDuVe"
   },
   "outputs": [],
   "source": [
    "# Call describe() on your data to get the relevant summary statistics for your data \n",
    "_ _ _ "
   ]
  },
  {
   "cell_type": "markdown",
   "metadata": {
    "colab_type": "text",
    "id": "INkujJ6QDuVg"
   },
   "source": [
    "# 2. Cleaning, transforming and visualizing\n",
    "## 2a. Cleaning the data"
   ]
  },
  {
   "cell_type": "markdown",
   "metadata": {
    "colab_type": "text",
    "id": "wIMW_rbdDuVh"
   },
   "source": [
    "Some datasets don't require any cleaning, but almost all do. This one does. We need to replace '1.0' and '0.0' in the 'Decision' column by 'YES' and 'NO' respectively, clean up the values of the 'gender' column, and change the column names to words which maximize meaning and clarity. "
   ]
  },
  {
   "cell_type": "markdown",
   "metadata": {
    "colab_type": "text",
    "id": "EEXdBALeDuVi"
   },
   "source": [
    "First, let's change the name of `spent_week`, `spent_month`, and `SlrAY` to `spent_last_week` and `spent_last_month` and `salary` respectively."
   ]
  },
  {
   "cell_type": "code",
   "execution_count": null,
   "metadata": {
    "colab": {},
    "colab_type": "code",
    "id": "rhxy23pbDuVi"
   },
   "outputs": [],
   "source": [
    "# Check out the names of our data's columns \n",
    "_ __ "
   ]
  },
  {
   "cell_type": "code",
   "execution_count": null,
   "metadata": {
    "colab": {},
    "colab_type": "code",
    "id": "C_D1m6ryDuVk"
   },
   "outputs": [],
   "source": [
    "# Make the relevant name changes to spent_week and spent_per_week.\n",
    "_ _ _"
   ]
  },
  {
   "cell_type": "code",
   "execution_count": null,
   "metadata": {
    "colab": {},
    "colab_type": "code",
    "id": "3cmdaeg8DuVm"
   },
   "outputs": [],
   "source": [
    "# Check out the column names\n",
    "_ _ _ "
   ]
  },
  {
   "cell_type": "code",
   "execution_count": null,
   "metadata": {
    "colab": {},
    "colab_type": "code",
    "id": "XJK-wbfODuVp"
   },
   "outputs": [],
   "source": [
    "# Let's have a closer look at the gender column. Its values need cleaning.\n",
    "_ _ _ "
   ]
  },
  {
   "cell_type": "code",
   "execution_count": null,
   "metadata": {
    "colab": {},
    "colab_type": "code",
    "id": "88bITtgzDuVr"
   },
   "outputs": [],
   "source": [
    "# See the gender column's unique values \n",
    "_ _ _ "
   ]
  },
  {
   "cell_type": "markdown",
   "metadata": {
    "colab_type": "text",
    "id": "-eGzgGR1DuVt"
   },
   "source": [
    "We can see a bunch of inconsistency here.\n",
    "\n",
    "Use replace() to make the values of the `gender` column just `Female` and `Male`."
   ]
  },
  {
   "cell_type": "code",
   "execution_count": null,
   "metadata": {
    "colab": {},
    "colab_type": "code",
    "id": "h0FOX3I3DuVu"
   },
   "outputs": [],
   "source": [
    "# Replace all alternate values for the Female entry with 'Female'\n",
    "_ _ _ "
   ]
  },
  {
   "cell_type": "code",
   "execution_count": null,
   "metadata": {
    "colab": {},
    "colab_type": "code",
    "id": "5TThfHgCDuVw"
   },
   "outputs": [],
   "source": [
    "# Check out the unique values for the 'gender' column\n",
    "_ _ _ "
   ]
  },
  {
   "cell_type": "code",
   "execution_count": null,
   "metadata": {
    "colab": {},
    "colab_type": "code",
    "id": "4wRKBvSHDuVy"
   },
   "outputs": [],
   "source": [
    "# Replace all alternate values with \"Male\"\n",
    "_ _ _ "
   ]
  },
  {
   "cell_type": "code",
   "execution_count": null,
   "metadata": {
    "colab": {},
    "colab_type": "code",
    "id": "nhBUkXIADuV0"
   },
   "outputs": [],
   "source": [
    "# Let's check the unique values of the column \"gender\"\n",
    "_ _ _ "
   ]
  },
  {
   "cell_type": "code",
   "execution_count": null,
   "metadata": {
    "colab": {},
    "colab_type": "code",
    "id": "AdhhO4WHDuV2"
   },
   "outputs": [],
   "source": [
    "# Check out the unique values of the column 'Decision'\n",
    "_ _ _ "
   ]
  },
  {
   "cell_type": "markdown",
   "metadata": {
    "colab_type": "text",
    "id": "m1JuiY-iDuV5"
   },
   "source": [
    "We now want to replace `1.0` and `0.0` in the `Decision` column by `YES` and `NO` respectively."
   ]
  },
  {
   "cell_type": "code",
   "execution_count": null,
   "metadata": {
    "colab": {},
    "colab_type": "code",
    "id": "QsK6gYPgDuV5"
   },
   "outputs": [],
   "source": [
    "# Replace 1.0 and 0.0 by 'Yes' and 'No'\n",
    "_ _ _ \n",
    "_ _ _ "
   ]
  },
  {
   "cell_type": "code",
   "execution_count": null,
   "metadata": {
    "colab": {},
    "colab_type": "code",
    "id": "YtHnTZuWDuV9"
   },
   "outputs": [],
   "source": [
    "# Check that our replacing those values with 'YES' and 'NO' worked, with unique()\n",
    "_ _ _ "
   ]
  },
  {
   "cell_type": "markdown",
   "metadata": {
    "colab_type": "text",
    "id": "CKCt-fBlDuWB"
   },
   "source": [
    "## 2b. Train/test split\n",
    "To execute the train/test split properly, we need to do five things: \n",
    "1. Drop all rows with a null value in the `Decision` column, and save the result as NOPrediction: a dataset that will contain all known values for the decision \n",
    "2. Visualize the data using scatter and boxplots of several variables in the y-axis and the decision on the x-axis\n",
    "3. Get the subset of coffeeData with null values in the `Decision` column, and save that subset as Prediction\n",
    "4. Divide the NOPrediction subset into X and y, and then further divide those subsets into train and test subsets for X and y respectively\n",
    "5. Create dummy variables to deal with categorical inputs"
   ]
  },
  {
   "cell_type": "markdown",
   "metadata": {
    "colab_type": "text",
    "id": "ysHdkIaQDuWB"
   },
   "source": [
    "### 1. Drop all null values within the `Decision` column, and save the result as NoPrediction"
   ]
  },
  {
   "cell_type": "code",
   "execution_count": null,
   "metadata": {
    "colab": {},
    "colab_type": "code",
    "id": "pvgH6SM4DuWC"
   },
   "outputs": [],
   "source": [
    "# NoPrediction will contain all known values for the decision\n",
    "# Call dropna() on coffeeData, and store the result in a variable NOPrediction \n",
    "# Call describe() on the Decision column of NoPrediction after calling dropna() on coffeeData\n",
    "_ _ _ \n",
    "_ _ _ "
   ]
  },
  {
   "cell_type": "markdown",
   "metadata": {
    "colab_type": "text",
    "id": "XfTK5Ec6DuWE"
   },
   "source": [
    "### 2. Visualize the data using scatter and boxplots of several variables in the y-axis and the decision on the x-axis"
   ]
  },
  {
   "cell_type": "code",
   "execution_count": null,
   "metadata": {
    "colab": {},
    "colab_type": "code",
    "id": "5O-M-t3tDuWE"
   },
   "outputs": [],
   "source": [
    "# Exploring our new NOPrediction dataset\n",
    "# Make a boxplot on NOPrediction where the x axis is Decision, and the y axis is spent_last_week\n",
    "_ _ _ \n",
    "_ _ _ "
   ]
  },
  {
   "cell_type": "markdown",
   "metadata": {
    "colab_type": "text",
    "id": "mVqg_HI7DuWG"
   },
   "source": [
    "Can you admissibly conclude anything from this boxplot? Write your answer here:\n",
    "\n"
   ]
  },
  {
   "cell_type": "code",
   "execution_count": null,
   "metadata": {
    "colab": {},
    "colab_type": "code",
    "id": "q-AyXWSxDuWH"
   },
   "outputs": [],
   "source": [
    "# Make a scatterplot on NOPrediction, where x is distance, y is spent_last_month and hue is Decision \n",
    "_ _ _ "
   ]
  },
  {
   "cell_type": "markdown",
   "metadata": {
    "colab_type": "text",
    "id": "I_nr36yZDuWJ"
   },
   "source": [
    "Can you admissibly conclude anything from this scatterplot? Remember: we are trying to build a tree to classify unseen examples. Write your answer here:"
   ]
  },
  {
   "cell_type": "markdown",
   "metadata": {
    "colab_type": "text",
    "id": "oQBPyvehDuWK"
   },
   "source": [
    "### 3. Get the subset of coffeeData with null values in the Decision column, and save that subset as Prediction"
   ]
  },
  {
   "cell_type": "code",
   "execution_count": null,
   "metadata": {
    "colab": {},
    "colab_type": "code",
    "id": "vcCednqUDuWL"
   },
   "outputs": [],
   "source": [
    "# Get just those rows whose value for the Decision column is null  \n",
    "_ _ _ \n",
    "_ _ _ "
   ]
  },
  {
   "cell_type": "code",
   "execution_count": null,
   "metadata": {
    "colab": {},
    "colab_type": "code",
    "id": "aenlmp9NDuWM"
   },
   "outputs": [],
   "source": [
    "# Call describe() on Prediction\n",
    "_ _ _"
   ]
  },
  {
   "cell_type": "markdown",
   "metadata": {
    "colab_type": "text",
    "id": "zmN_BPwFDuWO"
   },
   "source": [
    "### 4. Divide the NOPrediction subset into X and y"
   ]
  },
  {
   "cell_type": "code",
   "execution_count": null,
   "metadata": {
    "colab": {},
    "colab_type": "code",
    "id": "00WtPVYSDuWP"
   },
   "outputs": [],
   "source": [
    "# Check the names of the columns of NOPrediction\n",
    "_ _ _ "
   ]
  },
  {
   "cell_type": "code",
   "execution_count": null,
   "metadata": {
    "colab": {},
    "colab_type": "code",
    "id": "oPi2gMLfDuWQ"
   },
   "outputs": [],
   "source": [
    "# Let's do our feature selection.\n",
    "# Make a variable called 'features', and a list containing the strings of every column except \"Decision\"\n",
    "_ _ _\n",
    "\n",
    "# Make an explanatory variable called X, and assign it: NoPrediction[features]\n",
    "_ _ _ \n",
    "\n",
    "# Make a dependent variable called y, and assign it: NoPrediction.Decision\n",
    "_ _ _ "
   ]
  },
  {
   "cell_type": "markdown",
   "metadata": {
    "colab_type": "text",
    "id": "R-d3XOv8DuWW"
   },
   "source": [
    "### 5. Create dummy variables to deal with categorical inputs\n",
    "One-hot encoding replaces each unique value of a given column with a new column, and puts a 1 in the new column for a given row just if its initial value for the original column matches the new column. Check out [this resource](https://hackernoon.com/what-is-one-hot-encoding-why-and-when-do-you-have-to-use-it-e3c6186d008f) if you haven't seen one-hot-encoding before. \n",
    "\n",
    "**Note**: We will do this before we do our train/test split as to do it after could mean that some categories only end up in the train or test split of our data by chance and this would then lead to different shapes of data for our `X_train` and `X_test` which could/would cause downstream issues when fitting or predicting using a trained model."
   ]
  },
  {
   "cell_type": "code",
   "execution_count": null,
   "metadata": {
    "colab": {},
    "colab_type": "code",
    "id": "xXHGDZkZDuWW"
   },
   "outputs": [],
   "source": [
    "# One-hot encode all features in X.\n",
    "_ _ _ "
   ]
  },
  {
   "cell_type": "markdown",
   "metadata": {
    "colab_type": "text",
    "id": "Jdn_dHlkDuWS"
   },
   "source": [
    "### 6. Further divide those subsets into train and test subsets for X and y respectively: X_train, X_test, y_train, y_test"
   ]
  },
  {
   "cell_type": "code",
   "execution_count": null,
   "metadata": {
    "colab": {},
    "colab_type": "code",
    "id": "RqbHQza-DuWT"
   },
   "outputs": [],
   "source": [
    "# Call train_test_split on X, y. Make the test_size = 0.25, and random_state = 246\n",
    "_ _ _ "
   ]
  },
  {
   "cell_type": "markdown",
   "metadata": {
    "colab_type": "text",
    "id": "nqvyCX-6DuWb"
   },
   "source": [
    "# 3. Modelling\n",
    "It's useful to look at the scikit-learn documentation on decision trees https://scikit-learn.org/stable/modules/tree.html before launching into applying them. If you haven't seen them before, take a look at that link, in particular the section `1.10.5.` "
   ]
  },
  {
   "cell_type": "markdown",
   "metadata": {
    "colab_type": "text",
    "id": "RIm9IN5HDuWc"
   },
   "source": [
    "## Model 1: Entropy model - no max_depth\n",
    "\n",
    "We'll give you a little more guidance here, as the Python is hard to deduce, and scikitlearn takes some getting used to.\n",
    "\n",
    "Theoretically, let's remind ourselves of what's going on with a decision tree implementing an entropy model.\n",
    "\n",
    "Ross Quinlan's **ID3 Algorithm** was one of the first, and one of the most basic, to use entropy as a metric.\n",
    "\n",
    "**Entropy** is a measure of how uncertain we are about which category the data-points fall into at a given point in the tree. The **Information gain** of a specific feature with a threshold (such as 'spent_last_month <= 138.0') is the difference in entropy that exists before and after splitting on that feature; i.e., the information we gain about the categories of the data-points by splitting on that feature and that threshold. \n",
    "\n",
    "Naturally, we want to minimize entropy and maximize information gain. Quinlan's ID3 algorithm is designed to output a tree such that the features at each node, starting from the root, and going all the way down to the leaves, have maximial information gain. We want a tree whose leaves have elements that are *homogeneous*, that is, all of the same category. \n",
    "\n",
    "The first model will be the hardest. Persevere and you'll reap the rewards: you can use almost exactly the same code for the other models. "
   ]
  },
  {
   "cell_type": "code",
   "execution_count": null,
   "metadata": {
    "colab": {},
    "colab_type": "code",
    "id": "8-gelLDgDuWc"
   },
   "outputs": [],
   "source": [
    "# Declare a variable called entr_model and use tree.DecisionTreeClassifier. \n",
    "_ _ _\n",
    "\n",
    "# Call fit() on entr_model\n",
    "_ _ _ \n",
    "\n",
    "# Call predict() on entr_model with X_test passed to it, and assign the result to a variable y_pred \n",
    "_ _ _ \n",
    "\n",
    "# Call Series on our y_pred variable with the following: pd.Series(y_pred)\n",
    "_ _ _ \n",
    "\n",
    "# Check out entr_model\n",
    "entr_model"
   ]
  },
  {
   "cell_type": "code",
   "execution_count": null,
   "metadata": {
    "colab": {},
    "colab_type": "code",
    "id": "S4FbHfWnDuWe"
   },
   "outputs": [],
   "source": [
    "# Now we want to visualize the tree\n",
    "_ _ _\n",
    "\n",
    "# We can do so with export_graphviz\n",
    "_ _ _ \n",
    "\n",
    "# Alternatively for class_names use entr_model.classes_\n",
    "_ _ _"
   ]
  },
  {
   "cell_type": "markdown",
   "metadata": {
    "colab_type": "text",
    "id": "dFbii4IADuWg"
   },
   "source": [
    "## Model 1: Entropy model - no max_depth: Interpretation and evaluation"
   ]
  },
  {
   "cell_type": "code",
   "execution_count": null,
   "metadata": {
    "colab": {},
    "colab_type": "code",
    "id": "XRL0klK4DuWh"
   },
   "outputs": [],
   "source": [
    "# Run this block for model evaluation metrics \n",
    "print(\"Model Entropy - no max depth\")\n",
    "print(\"Accuracy:\", metrics.accuracy_score(y_test,y_pred))\n",
    "print(\"Balanced accuracy:\", metrics.balanced_accuracy_score(y_test,y_pred))\n",
    "print('Precision score for \"Yes\"' , metrics.precision_score(y_test,y_pred, pos_label = \"YES\"))\n",
    "print('Precision score for \"No\"' , metrics.precision_score(y_test,y_pred, pos_label = \"NO\"))\n",
    "print('Recall score for \"Yes\"' , metrics.recall_score(y_test,y_pred, pos_label = \"YES\"))\n",
    "print('Recall score for \"No\"' , metrics.recall_score(y_test,y_pred, pos_label = \"NO\"))"
   ]
  },
  {
   "cell_type": "markdown",
   "metadata": {
    "colab_type": "text",
    "id": "icGOPFQ_DuWj"
   },
   "source": [
    "What can you infer from these results? Write your conclusions here:"
   ]
  },
  {
   "cell_type": "markdown",
   "metadata": {
    "colab_type": "text",
    "id": "MHipdpfxDuWk"
   },
   "source": [
    "## Model 2: Gini impurity model - no max_depth\n",
    "\n",
    "Gini impurity, like entropy, is a measure of how well a given feature (and threshold) splits the data into categories.\n",
    "\n",
    "Their equations are similar, but Gini impurity doesn't require logorathmic functions, which can be computationally expensive. "
   ]
  },
  {
   "cell_type": "code",
   "execution_count": null,
   "metadata": {
    "colab": {},
    "colab_type": "code",
    "id": "FyBljeIpDuWl"
   },
   "outputs": [],
   "source": [
    "# Make a variable called gini_model, and assign it exactly what you assigned entr_model with above, but with the\n",
    "# criterion changed to 'gini'\n",
    "_ _ _ \n",
    "\n",
    "# Call fit() on the gini_model as you did with the entr_model\n",
    "_ _ _ \n",
    "\n",
    "# Call predict() on the gini_model as you did with the entr_model \n",
    "_ _ _ \n",
    "\n",
    "# Turn y_pred into a series, as before\n",
    "_ _ _ \n",
    "\n",
    "# Check out gini_model\n",
    "_ _ _ "
   ]
  },
  {
   "cell_type": "code",
   "execution_count": null,
   "metadata": {
    "colab": {},
    "colab_type": "code",
    "id": "d20SMUmgDuWo"
   },
   "outputs": [],
   "source": [
    "# As before, but make the model name gini_model\n",
    "_ _ _ \n",
    "_ _ _ \n",
    "\n",
    "# Alternatively for class_names use gini_model.classes_\n",
    "_ _ _ "
   ]
  },
  {
   "cell_type": "code",
   "execution_count": null,
   "metadata": {
    "colab": {},
    "colab_type": "code",
    "id": "T0RadBy0DuWp"
   },
   "outputs": [],
   "source": [
    "# Run this block for model evaluation\n",
    "print(\"Model Gini impurity model\")\n",
    "print(\"Accuracy:\", metrics.accuracy_score(y_test,y_pred))\n",
    "print(\"Balanced accuracy:\", metrics.balanced_accuracy_score(y_test,y_pred))\n",
    "print('Precision score' , metrics.precision_score(y_test,y_pred, pos_label = \"YES\"))\n",
    "print('Recall score' , metrics.recall_score(y_test,y_pred, pos_label = \"NO\"))"
   ]
  },
  {
   "cell_type": "markdown",
   "metadata": {
    "colab_type": "text",
    "id": "LR5LkC_yDuWs"
   },
   "source": [
    "How do the results here compare to the previous model? Write your judgements here: "
   ]
  },
  {
   "cell_type": "markdown",
   "metadata": {
    "colab_type": "text",
    "id": "3PctBjTADuWs"
   },
   "source": [
    "## Model 3: Entropy model - max depth 3\n",
    "We're going to try to limit the depth of our decision tree, using entropy first.  \n",
    "\n",
    "As you know, we need to strike a balance with tree depth. \n",
    "\n",
    "Insufficiently deep, and we're not giving the tree the opportunity to spot the right patterns in the training data.\n",
    "\n",
    "Excessively deep, and we're probably going to make a tree that overfits to the training data, at the cost of very high error on the (hitherto unseen) test data. \n",
    "\n",
    "Sophisticated data scientists use methods like random search with cross-validation to systematically find a good depth for their tree. We'll start with picking 3, and see how that goes. "
   ]
  },
  {
   "cell_type": "code",
   "execution_count": null,
   "metadata": {
    "colab": {},
    "colab_type": "code",
    "id": "cMiPjWClDuWt"
   },
   "outputs": [],
   "source": [
    "# Made a model as before, but call it entr_model2, and make the max_depth parameter equal to 3. \n",
    "# Execute the fitting, predicting, and Series operations as before\n",
    "_ _ _"
   ]
  },
  {
   "cell_type": "code",
   "execution_count": null,
   "metadata": {
    "colab": {},
    "colab_type": "code",
    "id": "IRuw72VMDuWv"
   },
   "outputs": [],
   "source": [
    "# As before, we need to visualize the tree to grasp its nature\n",
    "_ _ _ \n",
    "\n",
    "# Alternatively for class_names use entr_model2.classes_\n",
    "_ _ _"
   ]
  },
  {
   "cell_type": "code",
   "execution_count": null,
   "metadata": {
    "colab": {},
    "colab_type": "code",
    "id": "29f4vmmMDuWy"
   },
   "outputs": [],
   "source": [
    "# Run this block for model evaluation \n",
    "print(\"Model Entropy model max depth 3\")\n",
    "print(\"Accuracy:\", metrics.accuracy_score(y_test,y_pred))\n",
    "print(\"Balanced accuracy:\", metrics.balanced_accuracy_score(y_test,y_pred))\n",
    "print('Precision score for \"Yes\"' , metrics.precision_score(y_test,y_pred, pos_label = \"YES\"))\n",
    "print('Recall score for \"No\"' , metrics.recall_score(y_test,y_pred, pos_label = \"NO\"))"
   ]
  },
  {
   "cell_type": "markdown",
   "metadata": {
    "colab_type": "text",
    "id": "AG7S2YgUDuW4"
   },
   "source": [
    "So our accuracy decreased, but is this certainly an inferior tree to the max depth original tree we did with Model 1? Write your conclusions here: "
   ]
  },
  {
   "cell_type": "markdown",
   "metadata": {
    "colab_type": "text",
    "id": "FZTl4W3wDuW4"
   },
   "source": [
    "## Model 4: Gini impurity  model - max depth 3\n",
    "We're now going to try the same with the Gini impurity model. "
   ]
  },
  {
   "cell_type": "code",
   "execution_count": null,
   "metadata": {
    "colab": {},
    "colab_type": "code",
    "id": "FJK1bkG3DuW5"
   },
   "outputs": [],
   "source": [
    "# As before, make a variable, but call it gini_model2, and ensure the max_depth parameter is set to 3\n",
    "_ _ _ = _ _ _._ _ _(_ _ _ ='_ _ _ ', _ _ _ = 1234, _ _ _  = _ _ _ )\n",
    "\n",
    "# Do the fit, predict, and series transformations as before. \n",
    "_ _ _"
   ]
  },
  {
   "cell_type": "code",
   "execution_count": null,
   "metadata": {
    "colab": {},
    "colab_type": "code",
    "id": "_UIWhKZBDuW7"
   },
   "outputs": [],
   "source": [
    "dot_data = StringIO()\n",
    "_ _ _ \n",
    "\n",
    "\n",
    "# Alternatively for class_names use gini_model2.classes_\n",
    "_ _ _"
   ]
  },
  {
   "cell_type": "code",
   "execution_count": null,
   "metadata": {
    "colab": {},
    "colab_type": "code",
    "id": "R4t7e9-GDuW9"
   },
   "outputs": [],
   "source": [
    "print(\"Gini impurity  model - max depth 3\")\n",
    "print(\"Accuracy:\", metrics.accuracy_score(y_test,y_pred))\n",
    "print(\"Balanced accuracy:\", metrics.balanced_accuracy_score(y_test,y_pred))\n",
    "print('Precision score' , metrics.precision_score(y_test,y_pred, pos_label = \"YES\"))\n",
    "print('Recall score' , metrics.recall_score(y_test,y_pred, pos_label = \"NO\"))"
   ]
  },
  {
   "cell_type": "markdown",
   "metadata": {
    "colab_type": "text",
    "id": "UzGThBXSDuW-"
   },
   "source": [
    "Now this is an elegant tree. Its accuracy might not be the highest, but it's still the best model we've produced so far. Why is that? Write your answer here: "
   ]
  },
  {
   "cell_type": "markdown",
   "metadata": {
    "colab_type": "text",
    "id": "jS1niFlCDuW_"
   },
   "source": [
    "# 4. Evaluating and concluding\n",
    "## 4a. How many customers will buy Hidden Farm coffee? \n",
    "Let's first ascertain how many loyal customers claimed, in the survey, that they will purchase the Hidden Farm coffee. "
   ]
  },
  {
   "cell_type": "code",
   "execution_count": null,
   "metadata": {
    "colab": {},
    "colab_type": "code",
    "id": "QPHXnHZvDuXC"
   },
   "outputs": [],
   "source": [
    "# Call value_counts() on the 'Decision' column of the original coffeeData\n",
    "_ _ _ "
   ]
  },
  {
   "cell_type": "markdown",
   "metadata": {
    "colab_type": "text",
    "id": "kw_5g_ZEDuXD"
   },
   "source": [
    "Let's now determine the number of people that, according to the model, will be willing to buy the Hidden Farm coffee. \n",
    "1. First we subset the Prediction dataset into `new_X` considering all the variables except `Decision` \n",
    "2. Use that dataset to predict a new variable called `potential_buyers`"
   ]
  },
  {
   "cell_type": "code",
   "execution_count": null,
   "metadata": {
    "colab": {},
    "colab_type": "code",
    "id": "mwypR8ymDuXE"
   },
   "outputs": [],
   "source": [
    "# Feature selection\n",
    "# Make a variable called feature_cols, and assign it a list containing all the column names except 'Decision'\n",
    "_ _ _ \n",
    "\n",
    "# Make a variable called new_X, and assign it the subset of Prediction, containing just the feature_cols \n",
    "_ _ _ "
   ]
  },
  {
   "cell_type": "code",
   "execution_count": null,
   "metadata": {
    "colab": {},
    "colab_type": "code",
    "id": "0ajvbeRSDuXG"
   },
   "outputs": [],
   "source": [
    "# Call get_dummies() on the Pandas object pd, with new_X plugged in, to one-hot encode all features in the training set\n",
    "_ _ _ \n",
    "\n",
    "# Make a variable called potential_buyers, and assign it the result of calling predict() on a model of your choice; \n",
    "# don't forget to pass new_X to predict()\n",
    "_ _ _ "
   ]
  },
  {
   "cell_type": "code",
   "execution_count": null,
   "metadata": {
    "colab": {},
    "colab_type": "code",
    "id": "-MO_KWT9DuXI"
   },
   "outputs": [],
   "source": [
    "# Let's get the numbers of YES's and NO's in the potential buyers \n",
    "# Call unique() on np, and pass potential_buyers and return_counts=True \n",
    "_ _ _ "
   ]
  },
  {
   "cell_type": "markdown",
   "metadata": {
    "colab_type": "text",
    "id": "3CB7HbiTDuXJ"
   },
   "source": [
    "The total number of potential buyers is 303 + 183 = 486"
   ]
  },
  {
   "cell_type": "code",
   "execution_count": null,
   "metadata": {
    "colab": {},
    "colab_type": "code",
    "id": "9EGFQcTuDuXK"
   },
   "outputs": [],
   "source": [
    "# Print the total number of surveyed people \n",
    "_ _ _ "
   ]
  },
  {
   "cell_type": "code",
   "execution_count": null,
   "metadata": {
    "colab": {},
    "colab_type": "code",
    "id": "22_KRMX4DuXM"
   },
   "outputs": [],
   "source": [
    "# Let's calculate the proportion of buyers\n",
    "_ _ _ "
   ]
  },
  {
   "cell_type": "code",
   "execution_count": null,
   "metadata": {
    "colab": {},
    "colab_type": "code",
    "id": "xLMCDMpmDuXO"
   },
   "outputs": [],
   "source": [
    "# Print the percentage of people who want to buy the Hidden Farm coffee, by our model \n",
    "_ _ _ "
   ]
  },
  {
   "cell_type": "markdown",
   "metadata": {
    "colab_type": "text",
    "id": "9bRDyi6rDuXQ"
   },
   "source": [
    "## 4b. Decision\n",
    "Remember how you thought at the start: if more than 70% of the interviewed customers are likely to buy the Hidden Farm coffee, you will strike the deal with the local Hidden Farm farmers and sell the coffee. Otherwise, you won't strike the deal and the Hidden Farm coffee will remain in legends only. Well now's crunch time. Are you going to go ahead with that idea? If so, you won't be striking the deal with the Chinese farmers. \n",
    "\n",
    "They're called `decision trees`, aren't they? So where's the decision? What should you do? (Cue existential cat emoji). \n",
    "\n",
    "Ultimately, though, we can't write an algorithm to actually *make the business decision* for us. This is because such decisions depend on our values, what risks we are willing to take, the stakes of our decisions, and how important it us for us to *know* that we will succeed. What are you going to do with the models you've made? Are you going to risk everything, strike the deal with the *Hidden Farm* farmers, and sell the coffee? \n",
    "\n",
    "The philosopher of language Jason Stanley once wrote that the number of doubts our evidence has to rule out in order for us to know a given proposition depends on our stakes: the higher our stakes, the more doubts our evidence has to rule out, and therefore the harder it is for us to know things. We can end up paralyzed in predicaments; sometimes, we can act to better our situation only if we already know certain things, which we can only if our stakes were lower and we'd *already* bettered our situation. \n",
    "\n",
    "Data science and machine learning can't solve such problems. But what it can do is help us make great use of our data to help *inform* our decisions."
   ]
  },
  {
   "cell_type": "markdown",
   "metadata": {
    "colab_type": "text",
    "id": "crWWrpdox8i-"
   },
   "source": [
    "## 5. Random Forest\n",
    "You might have noticed an important fact about decision trees. Each time we run a given decision tree algorithm to make a prediction (such as whether customers will buy the Hidden Farm coffee) we will actually get a slightly different result. This might seem weird, but it has a simple explanation: machine learning algorithms are by definition ***stochastic***, in that their output is at least partly determined by randomness. \n",
    "\n",
    "To account for this variability and ensure that we get the most accurate prediction, we might want to actually make lots of decision trees, and get a value that captures the centre or average of the outputs of those trees. Luckily, there's a method for this, known as the ***Random Forest***. \n",
    "\n",
    "Essentially, Random Forest involves making lots of trees with similar properties, and then performing summary statistics on the outputs of those trees to reach that central value. Random forests are hugely powerful classifers, and they can improve predictive accuracy and control over-fitting. \n",
    "\n",
    "Why not try to inform your decision with random forest? You'll need to make use of the RandomForestClassifier function within the sklearn.ensemble module, found [here](https://scikit-learn.org/stable/modules/generated/sklearn.ensemble.RandomForestClassifier.html). "
   ]
  },
  {
   "cell_type": "markdown",
   "metadata": {
    "colab_type": "text",
    "id": "fI4fiVWq0IH9"
   },
   "source": [
    "### 5a. Import necessary modules"
   ]
  },
  {
   "cell_type": "code",
   "execution_count": null,
   "metadata": {
    "colab": {},
    "colab_type": "code",
    "id": "vSRTnHnD0D-O"
   },
   "outputs": [],
   "source": [
    "from sklearn.ensemble import RandomForestClassifier\n",
    "from sklearn.datasets import make_classification"
   ]
  },
  {
   "cell_type": "markdown",
   "metadata": {
    "colab_type": "text",
    "id": "jKmFvvjb0WB9"
   },
   "source": [
    "### 5b. Model\n",
    "You'll use your X_train and y_train variables just as before.\n",
    "\n",
    "You'll then need to make a variable (call it firstRFModel) to store your new Random Forest model. You'll assign this variable the result of calling RandomForestClassifier().\n",
    "\n",
    "Then, just as before, you'll call fit() on that firstRFModel variable, and plug in X_train and y_train.\n",
    "\n",
    "Finally, you should make a variable called y_pred, and assign it the result of calling the predict() method on your new firstRFModel, with the X_test data passed to it. "
   ]
  },
  {
   "cell_type": "code",
   "execution_count": null,
   "metadata": {
    "colab": {},
    "colab_type": "code",
    "id": "OQEeTiRG1aSm"
   },
   "outputs": [],
   "source": [
    "# Plug in appropriate max_depth and random_state parameters \n",
    "_ _ _ \n",
    "\n",
    "# Model and fit\n",
    "_ _ _ \n",
    "\n",
    "\n"
   ]
  },
  {
   "cell_type": "markdown",
   "metadata": {
    "colab_type": "text",
    "id": "sCIt6pyn1zpb"
   },
   "source": [
    "### 5c. Revise conclusion\n",
    "\n",
    "Has your conclusion changed? Or is the result of executing random forest the same as your best model reached by a single decision tree? "
   ]
  }
 ],
 "metadata": {
  "colab": {
   "collapsed_sections": [],
   "name": "Springboard Decision Tree Specialty Coffee Case Study - Tier 3.ipynb",
   "provenance": []
  },
  "kernelspec": {
   "display_name": "Python 3 (ipykernel)",
   "language": "python",
   "name": "python3"
  },
  "language_info": {
   "codemirror_mode": {
    "name": "ipython",
    "version": 3
   },
   "file_extension": ".py",
   "mimetype": "text/x-python",
   "name": "python",
   "nbconvert_exporter": "python",
   "pygments_lexer": "ipython3",
   "version": "3.11.5"
  }
 },
 "nbformat": 4,
 "nbformat_minor": 4
}
